{
 "cells": [
  {
   "cell_type": "markdown",
   "metadata": {},
   "source": [
    "<span style='background:yellow'>**Question 3 (100 pt, each sub-question is 10 pt).**</span> \n",
    "\n",
    "Part A: Given Inetd dataset, an intrusion detection dataset that contains 2 columns. The first column represents a process ID number (PID) and the second column represents a system call. The goal is to extract the entire system call sequence by its PID, then tokenize and parse each sequence into 25-grams. After this, we’ll split the data into training and testing sets. Next, we ensure data quality in the training dataset by removing duplicate sequences within each class and overlapped sequences between both classes. To ensure a fair evaluation, we also clean the testing set by repeating the previous step. You will implement a Decision Tree model to train and test on the training set and testing set that we just clean. \n",
    "\n",
    "\n",
    "Part B: As the data type is sequential, we want to know how similar the sequences from both classes are and visualize how the similarity scores vary in different sequence lengths. Compute a cosine similarity score of 100 random pairs from both classes and get a median cosine similarity. Repeat this step in different sequence lengths (5, 10, 15, and 20). Plot a line chart to visualize how the median cosine similarities vary through sequence lengths of 5 to 25. \n",
    "\n",
    "You can download the datasets from github: https://github.com/unt-iialab/info5502-spring2022/tree/main/finalexam/q4\n",
    "\n",
    "\n",
    "Step by step instructions and questions:\n",
    "\n",
    "(1) Attached are the Normal and Intrusion data folders. Read in the data and store them in two separate dataframes. Combine the system calls (the second column) from the same PID (the first column) into a sequence or a string. \n",
    "\n",
    "(2) Parse an entire sequence into smaller sequences of size 25. (Hint: Use word_tokenize and ngrams from nltk library to parse).\n",
    "\n",
    "(3) Add labels to the data, and partition the labeled data into training data and testing data with a ratio of 70/30.\n",
    "\n",
    "(4) As the dataset has a lot of duplicate sequences, make sure that the testing data only contain unique sequences and that these sequences do not exist in the training data. Condense training data and testing data into two sets. Take the difference between the testing set and training set to remove the overlapped sequences from the testing data. \n",
    "\n",
    "(5) The sequences from each class can be repetitive, and some of these sequences may have different labels. Therefore, we need to remove the duplicate sequences within each class and the overlapped sequences from the Intrusion class. Start out by separating the Normal class and Intrusion class in the training data. Use the same concept in Question 4 to remove duplicate sequences and overlapped sequences from the training data.\n",
    "\n",
    "(6) Repeat Question 5 to clean the testing data.\n",
    "\n",
    "(7) Bootstrap the training data to get the same number of sequences from each class. Train and evaluate a Decision Tree model using the training data and testing data that we just clean. How is the performance?\n",
    "\n",
    "(8) Randomly sample 100 pairs of sequences from both classes and calculate the median cosine similarity.\n",
    "\n",
    "(9) Refer back to Question 2, parse the data into a length of 5, 10, 15, and 20. Clean the data from each class using Question 5. For each sequence length, calculate the median cosine similarity of 100 random pairs of sequences from both classes. \n",
    "\n",
    "(10) Plot a line chart to visualize how the median cosine similarities vary through different sequence lengths from 5 to 25.\n"
   ]
  },
  {
   "cell_type": "code",
   "execution_count": 29,
   "metadata": {},
   "outputs": [
    {
     "name": "stdout",
     "output_type": "stream",
     "text": [
      "   PID  SystemCalls\n",
      "0  167           90\n",
      "1  167          125\n",
      "\n",
      "   PID  SystemCalls\n",
      "0  167           90\n",
      "1  167          125\n"
     ]
    }
   ],
   "source": [
    "# 1.)\n",
    "import pandas as pd\n",
    "import numpy as np\n",
    "\n",
    "# load data from git\n",
    "intr_data = pd.read_csv(\"https://raw.githubusercontent.com/unt-iialab/info5502-spring2022/main/finalexam/q4/inetd-intrusion.int\", sep = \" \", header = None)\n",
    "norm_data = pd.read_csv(\"https://raw.githubusercontent.com/unt-iialab/info5502-spring2022/main/finalexam/q4/inetd-normal.int\", sep = \" \", header = None)\n",
    "\n",
    "# setting column names\n",
    "intr_data.columns = ['PID', 'SystemCalls']\n",
    "norm_data.columns = ['PID', 'SystemCalls']\n",
    "\n",
    "print(intr_data.head(2))\n",
    "print()\n",
    "print(norm_data.head(2))"
   ]
  },
  {
   "cell_type": "code",
   "execution_count": 30,
   "metadata": {},
   "outputs": [
    {
     "name": "stdout",
     "output_type": "stream",
     "text": [
      "(8371, 2)\n",
      "(541, 2)\n"
     ]
    }
   ],
   "source": [
    "print(intr_data.shape)\n",
    "print(norm_data.shape)"
   ]
  },
  {
   "cell_type": "code",
   "execution_count": 31,
   "metadata": {},
   "outputs": [
    {
     "data": {
      "text/plain": [
       "2669    266\n",
       "168     241\n",
       "167      34\n",
       "Name: PID, dtype: int64"
      ]
     },
     "execution_count": 31,
     "metadata": {},
     "output_type": "execute_result"
    }
   ],
   "source": [
    "norm_data['PID'].value_counts()"
   ]
  },
  {
   "cell_type": "code",
   "execution_count": 32,
   "metadata": {},
   "outputs": [
    {
     "data": {
      "text/plain": [
       "'90 125 125 106 5 90 6 5 3 90 90 90 90 6 125 91 125 125 125 136 49 24 47 50 45 45 5 106 106 106 106 106 2 1'"
      ]
     },
     "execution_count": 32,
     "metadata": {},
     "output_type": "execute_result"
    }
   ],
   "source": [
    "intr_dict = {}\n",
    "norm_dict = {}\n",
    "\n",
    "# combining system calls\n",
    "for pid in list(set(intr_data['PID'].values)):\n",
    "    intr_dict[pid] = \" \".join(str(value) for value in list(intr_data[intr_data['PID'] == pid]['SystemCalls'].values))\n",
    "\n",
    "for pid in list(set(norm_data['PID'].values)):\n",
    "    norm_dict[pid] = \" \".join(str(value) for value in list(norm_data[norm_data['PID'] == pid]['SystemCalls'].values))\n",
    "\n",
    "intr_dict[167]"
   ]
  },
  {
   "cell_type": "code",
   "execution_count": 33,
   "metadata": {},
   "outputs": [
    {
     "name": "stdout",
     "output_type": "stream",
     "text": [
      "7627\n",
      "469\n"
     ]
    }
   ],
   "source": [
    "import re\n",
    "from nltk.util import ngrams\n",
    "intr_list = []\n",
    "norm_list = []\n",
    "\n",
    "# generating ngrams with sequence length of 25\n",
    "\n",
    "for key in intr_dict.keys():\n",
    "    st = intr_dict[key]\n",
    "    tkns = [token for token in st.split(\" \") if token != \"\"]\n",
    "    \n",
    "    for ele in list(ngrams(tkns, 25)):\n",
    "        intr_list.append(ele)\n",
    "        \n",
    "for key in norm_dict.keys():\n",
    "    st = norm_dict[key]\n",
    "    tkns = [token for token in st.split(\" \") if token != \"\"]\n",
    "    \n",
    "    for ele in list(ngrams(tkns, 25)):\n",
    "        norm_list.append(ele) \n",
    "\n",
    "print(len(intr_list))\n",
    "print(len(norm_list))"
   ]
  },
  {
   "cell_type": "code",
   "execution_count": 34,
   "metadata": {},
   "outputs": [
    {
     "name": "stdout",
     "output_type": "stream",
     "text": [
      "(7627, 26)\n",
      "(469, 26)\n"
     ]
    }
   ],
   "source": [
    "intr_df = pd.DataFrame(intr_list)\n",
    "norm_df = pd.DataFrame(norm_list)\n",
    "\n",
    "# adding labels to intrusion and normal data sequences\n",
    "intr_df['class'] = 1\n",
    "norm_df['class'] = 0\n",
    "\n",
    "print(intr_df.shape)\n",
    "print(norm_df.shape)"
   ]
  },
  {
   "cell_type": "code",
   "execution_count": 35,
   "metadata": {},
   "outputs": [
    {
     "name": "stdout",
     "output_type": "stream",
     "text": [
      "(8096, 26)\n"
     ]
    }
   ],
   "source": [
    "comb_df = pd.DataFrame()\n",
    "\n",
    "comb_df = comb_df.append(intr_df)\n",
    "comb_df = comb_df.append(norm_df)\n",
    "\n",
    "print(comb_df.shape)"
   ]
  },
  {
   "cell_type": "code",
   "execution_count": 36,
   "metadata": {},
   "outputs": [
    {
     "data": {
      "text/plain": [
       "(333, 26)"
      ]
     },
     "execution_count": 36,
     "metadata": {},
     "output_type": "execute_result"
    }
   ],
   "source": [
    "# dropping duplicates...\n",
    "comb_df = comb_df.drop_duplicates(subset = comb_df.columns[:-1], keep = 'last')\n",
    "comb_df.shape"
   ]
  },
  {
   "cell_type": "code",
   "execution_count": 37,
   "metadata": {},
   "outputs": [
    {
     "data": {
      "text/plain": [
       "1    177\n",
       "0    156\n",
       "Name: class, dtype: int64"
      ]
     },
     "execution_count": 37,
     "metadata": {},
     "output_type": "execute_result"
    }
   ],
   "source": [
    "comb_df['class'].value_counts()"
   ]
  },
  {
   "cell_type": "code",
   "execution_count": 38,
   "metadata": {},
   "outputs": [
    {
     "data": {
      "text/plain": [
       "Index([ 0,  1,  2,  3,  4,  5,  6,  7,  8,  9, 10, 11, 12, 13, 14, 15, 16, 17,\n",
       "       18, 19, 20, 21, 22, 23, 24],\n",
       "      dtype='object')"
      ]
     },
     "execution_count": 38,
     "metadata": {},
     "output_type": "execute_result"
    }
   ],
   "source": [
    "comb_df.columns[:-1]"
   ]
  },
  {
   "cell_type": "code",
   "execution_count": 39,
   "metadata": {},
   "outputs": [
    {
     "name": "stdout",
     "output_type": "stream",
     "text": [
      "              precision    recall  f1-score   support\n",
      "\n",
      "           0       0.76      0.86      0.81        22\n",
      "           1       0.93      0.87      0.90        45\n",
      "\n",
      "    accuracy                           0.87        67\n",
      "   macro avg       0.84      0.87      0.85        67\n",
      "weighted avg       0.87      0.87      0.87        67\n",
      "\n"
     ]
    }
   ],
   "source": [
    "# building a decision tree classifier\n",
    "from sklearn.tree import DecisionTreeClassifier\n",
    "from sklearn import preprocessing\n",
    "from sklearn.metrics import classification_report\n",
    "from sklearn.model_selection import train_test_split\n",
    "\n",
    "# dropping target column\n",
    "A = comb_df.drop(\"class\", axis = 1)\n",
    "B = comb_df['class']\n",
    "\n",
    "# splitting dataset\n",
    "A_train, A_valid, B_train, B_valid = train_test_split(A, B, test_size = 0.2, random_state = 0)\n",
    "dt_classifier = DecisionTreeClassifier(max_depth = 10)\n",
    "dt_classifier.fit(A_train, B_train)\n",
    "B_pred = dt_classifier.predict(A_valid)\n",
    "print(classification_report(B_valid, B_pred))\n",
    "\n"
   ]
  },
  {
   "cell_type": "code",
   "execution_count": 40,
   "metadata": {},
   "outputs": [
    {
     "name": "stdout",
     "output_type": "stream",
     "text": [
      "\n",
      "5 0.7028676896685275\n",
      "\n",
      "\n",
      "10 0.6413172404134067\n",
      "\n",
      "\n",
      "15 0.5812778982600045\n",
      "\n",
      "\n",
      "20 0.5364008959966999\n",
      "\n",
      "\n",
      "25 0.5020971057668311\n",
      "\n"
     ]
    }
   ],
   "source": [
    "import re\n",
    "from nltk.util import ngrams\n",
    "import pandas as pd\n",
    "\n",
    "cosinesimilar_ngram = {}\n",
    "\n",
    "for ngram in range(5, 26, 5):\n",
    "\n",
    "    intr_data = pd.read_csv(\"https://raw.githubusercontent.com/unt-iialab/info5502-spring2022/main/finalexam/q4/inetd-intrusion.int\", sep = \" \", header = None)\n",
    "    norm_data = pd.read_csv(\"https://raw.githubusercontent.com/unt-iialab/info5502-spring2022/main/finalexam/q4/inetd-normal.int\", sep = \" \", header = None)\n",
    "\n",
    "    intr_data.columns = ['PID', 'SystemCalls']\n",
    "    norm_data.columns = ['PID', 'SystemCalls']\n",
    "\n",
    "    intr_dict = {}\n",
    "    norm_dict = {}\n",
    "    \n",
    "    for pid in list(set(intr_data['PID'].values)):\n",
    "        intr_dict[pid] = \" \".join(str(value) for value in list(intr_data[intr_data['PID'] == pid]['SystemCalls'].values))\n",
    "\n",
    "    for pid in list(set(norm_data['PID'].values)):\n",
    "        norm_dict[pid] = \" \".join(str(value) for value in list(norm_data[norm_data['PID'] == pid]['SystemCalls'].values))\n",
    "\n",
    "    intr_list = []\n",
    "    norm_list = []\n",
    "    for key in intr_dict.keys():\n",
    "        st = intr_dict[key]\n",
    "        tkns = [token for token in st.split(\" \") if token != \"\"]\n",
    "\n",
    "        for ele in list(ngrams(tkns, ngram)):\n",
    "            intr_list.append(ele)\n",
    "\n",
    "    for key in norm_dict.keys():\n",
    "        st = norm_dict[key]\n",
    "        tkns = [token for token in s.split(\" \") if token != \"\"]\n",
    "\n",
    "        for ele in list(ngrams(tkns, ngram)):\n",
    "            norm_list.append(ele)\n",
    "\n",
    "    intr_df = pd.DataFrame(intr_list)\n",
    "    norm_df = pd.DataFrame(norm_list)\n",
    "\n",
    "    intr_df['class'] = 1\n",
    "    norm_df['class'] = 0\n",
    "\n",
    "    comb_df = pd.DataFrame()\n",
    "\n",
    "    comb_df = comb_df.append(intr_df)\n",
    "    comb_df = comb_df.append(norm_df)\n",
    "\n",
    "    #print(combined_df.shape)\n",
    "    #print()\n",
    "\n",
    "\n",
    "    comb_df = comb_df.drop_duplicates(subset = comb_df.columns[:-1], keep = 'last')\n",
    "    \n",
    "    print()\n",
    "\n",
    "    from sklearn.metrics.pairwise import cosine_similarity\n",
    "    import statistics\n",
    "\n",
    "    similar_list = []\n",
    "    for i in range(0, 100):\n",
    "        list1 = list(comb_df[comb_df['class'] == 0].sample(n = 1).iloc[0, :].values)\n",
    "        list2 = list(comb_df[comb_df['class'] == 1].sample(n = 1).iloc[0, :].values)\n",
    "        try:\n",
    "            similar_list.append(cosine_similarity([list1], [list2]))\n",
    "        except Exception as e:\n",
    "            print(e)\n",
    "            print(list1, list2)\n",
    "\n",
    "    print(ngram, statistics.median(similar_list)[0][0])\n",
    "    print()\n",
    "    cosinesimilar_ngram[ngram] = statistics.median(similar_list)[0][0]\n"
   ]
  },
  {
   "cell_type": "code",
   "execution_count": 42,
   "metadata": {},
   "outputs": [
    {
     "data": {
      "image/png": "[encoded data removed]",
      "text/plain": [
       "<Figure size 720x504 with 1 Axes>"
      ]
     },
     "metadata": {
      "needs_background": "light"
     },
     "output_type": "display_data"
    }
   ],
   "source": [
    "import matplotlib.pyplot as plt\n",
    "import seaborn as sns\n",
    "\n",
    "# creating a dataframe of cosine similarity scores...\n",
    "cosinesimilar_ngram_df = pd.DataFrame({\"Ngram\":list(cosinesimilar_ngram.keys()), \"Similarityscores\": list(cosinesimilar_ngram.values())})\n",
    "\n",
    "# setting the figure parameters\n",
    "plt.rcParams['figure.figsize'] = [10, 7]\n",
    "\n",
    "# we iterate through each ngram range class and plot the cosine similarity value\n",
    "sns.lineplot(x = \"Ngram\", y = \"Similarityscores\", data = cosinesimilar_ngram_df,color='green')\n",
    "    \n",
    "plt.title(\"Line chart of cosine similarity scores\",color='red')\n",
    "plt.xlabel(\"Ngram\",color='blue')\n",
    "plt.ylabel(\"Cosine similarity scores\",color='green')\n",
    "plt.xticks(rotation = 90)\n",
    "plt.show()"
   ]
  },
  {
   "cell_type": "code",
   "execution_count": null,
   "metadata": {},
   "outputs": [],
   "source": []
  },
  {
   "cell_type": "code",
   "execution_count": null,
   "metadata": {},
   "outputs": [],
   "source": []
  }
 ],
 "metadata": {
  "kernelspec": {
   "display_name": "Python 3 (ipykernel)",
   "language": "python",
   "name": "python3"
  },
  "language_info": {
   "codemirror_mode": {
    "name": "ipython",
    "version": 3
   },
   "file_extension": ".py",
   "mimetype": "text/x-python",
   "name": "python",
   "nbconvert_exporter": "python",
   "pygments_lexer": "ipython3",
   "version": "3.9.7"
  }
 },
 "nbformat": 4,
 "nbformat_minor": 4
}

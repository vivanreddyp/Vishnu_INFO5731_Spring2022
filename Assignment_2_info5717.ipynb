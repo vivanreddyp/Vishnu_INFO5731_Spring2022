{
  "nbformat": 4,
  "nbformat_minor": 0,
  "metadata": {
    "colab": {
      "provenance": [],
      "toc_visible": true,
      "mount_file_id": "1bPfsSxbp-jPbCv5KfGtt6BQzBQ-p39Zb",
      "authorship_tag": "ABX9TyO+fLCd3FKq+AyO78mV5UuD",
      "include_colab_link": true
    },
    "kernelspec": {
      "name": "python3",
      "display_name": "Python 3"
    },
    "language_info": {
      "name": "python"
    }
  },
  "cells": [
    {
      "cell_type": "markdown",
      "metadata": {
        "id": "view-in-github",
        "colab_type": "text"
      },
      "source": [
        "<a href=\"https://colab.research.google.com/github/vivanreddyp/Vishnu_INFO5731_Spring2022/blob/main/Assignment_2_info5717.ipynb\" target=\"_parent\"><img src=\"https://colab.research.google.com/assets/colab-badge.svg\" alt=\"Open In Colab\"/></a>"
      ]
    },
    {
      "cell_type": "markdown",
      "source": [
        "Question I"
      ],
      "metadata": {
        "id": "oOSygMUAAbuH"
      }
    },
    {
      "cell_type": "code",
      "source": [
        "import math\n",
        "# loop through radius values from 1 to 10\n",
        "print(\"r  V\")\n",
        "for r in range(1, 11):\n",
        "  print(\"{} {}  \".format(r, (4/3)*math.pi*(r**3)))"
      ],
      "metadata": {
        "colab": {
          "base_uri": "https://localhost:8080/"
        },
        "id": "XAyNcXDoEw-U",
        "outputId": "f116825e-e7f6-4f25-9677-32eaad07c44d"
      },
      "execution_count": 7,
      "outputs": [
        {
          "output_type": "stream",
          "name": "stdout",
          "text": [
            "r  V\n",
            "1 4.1887902047863905  \n",
            "2 33.510321638291124  \n",
            "3 113.09733552923254  \n",
            "4 268.082573106329  \n",
            "5 523.5987755982989  \n",
            "6 904.7786842338603  \n",
            "7 1436.7550402417319  \n",
            "8 2144.660584850632  \n",
            "9 3053.6280592892786  \n",
            "10 4188.790204786391  \n"
          ]
        }
      ]
    },
    {
      "cell_type": "markdown",
      "source": [
        "Python files reading and writing operation. Download the “Assignment 2 data collection.zip” to your local and un-zip it. Write a program to finish the following task:\n",
        "\n",
        "(a) Write a program to read all the txt files and save the sentences in all the files into one csv file with two columns, the first column is sentence id (txt file name+sentence line number), the second column is the sentence text content. (10 pts)\n",
        "\n",
        "(b) Remove all the numbers, special characters, punctuation from the sentences, save the processed sentences into a new column in the same csv file. (10 pts)\n",
        "\n",
        "(c) Ask the user to enter a word, return all the sentences that include this word, three kinds of information should be returned: sentence id, sentence text content, the count that user input word appear in the sentence. (10 pts)\n"
      ],
      "metadata": {
        "id": "YDlTR5IcQUrF"
      }
    },
    {
      "cell_type": "code",
      "source": [
        "from google.colab import drive\n",
        "drive.mount('/content/drive')"
      ],
      "metadata": {
        "colab": {
          "base_uri": "https://localhost:8080/"
        },
        "id": "v1H_iDVCMb5C",
        "outputId": "e1103332-350c-4fae-8ca4-ed3aec4b2478"
      },
      "execution_count": 21,
      "outputs": [
        {
          "output_type": "stream",
          "name": "stdout",
          "text": [
            "Drive already mounted at /content/drive; to attempt to forcibly remount, call drive.mount(\"/content/drive\", force_remount=True).\n"
          ]
        }
      ]
    },
    {
      "cell_type": "code",
      "source": [
        "import os\n",
        "import csv\n",
        "import string\n",
        "\n",
        "# Directory where the text files are located\n",
        "data_directory = '/content/drive/MyDrive/Assignment2datacollection/Assignment2datacollection'\n",
        "\n",
        "# List to store all the sentences\n",
        "sentences = []\n",
        "\n",
        "# Loop through all the text files in the directory\n",
        "for file_name in os.listdir(data_directory):\n",
        "    if file_name.endswith(\".txt\"):\n",
        "        # Open the file for reading\n",
        "        with open(os.path.join(data_directory, file_name), 'r') as file:\n",
        "            # Read all the lines in the file\n",
        "            lines = file.readlines()\n",
        "            # Loop through all the lines in the file\n",
        "            for line_number, line_text in enumerate(lines, start=1):\n",
        "                # Remove any leading or trailing white spaces\n",
        "                line_text = line_text.strip()\n",
        "                # Add the sentence to the list of sentences\n",
        "                sentence_id = f\"{file_name}_line_{line_number}\"\n",
        "                sentences.append((sentence_id, line_text))\n",
        "\n",
        "# Enter a word to search for in the sentences\n",
        "search_word = input(\"Enter a word to search for: \")\n",
        "\n",
        "# Open a CSV file for writing\n",
        "with open('sentences.csv', 'w', newline='') as file:\n",
        "    # Create a CSV writer object\n",
        "    writer = csv.writer(file)\n",
        "    # Write the header row\n",
        "    writer.writerow(['Sentence ID', 'Sentence Text', 'Processed Text', 'Word Count'])\n",
        "    # Loop through all the sentences and write them to the CSV file\n",
        "    for sentence_id, sentence_text in sentences:\n",
        "        # Remove numbers, special characters, and punctuation from the sentence\n",
        "        processed_text = sentence_text.translate(str.maketrans('', '', string.digits+string.punctuation))\n",
        "        # Count the occurrences of the search word in the processed text\n",
        "        word_count = processed_text.lower().count(search_word.lower())\n",
        "        # Write the sentence information to the CSV file\n",
        "        writer.writerow([sentence_id, sentence_text, processed_text, word_count])\n",
        "\n",
        "# Open the CSV file for reading\n",
        "with open('sentences.csv', 'r') as file:\n",
        "    # Create a CSV reader object\n",
        "    reader = csv.reader(file)\n",
        "    # Skip the header row\n",
        "    next(reader)\n",
        "    # Loop through all the rows in the CSV file\n",
        "    for row in reader:\n",
        "        sentence_id, sentence_text, processed_text, word_count = row\n",
        "        # If the search word appears in the processed text, print the sentence information\n",
        "        if int(word_count) > 0:\n",
        "            print(f\"Sentence ID: {sentence_id}\")\n",
        "            print(f\"Sentence Text: {sentence_text}\")\n",
        "            print(f\"Word Count: {word_count}\")\n",
        "            print()\n"
      ],
      "metadata": {
        "colab": {
          "base_uri": "https://localhost:8080/"
        },
        "id": "-8T8nPFlLNRj",
        "outputId": "f17ef014-620c-4b39-dcba-abd9a66e1ef1"
      },
      "execution_count": 22,
      "outputs": [
        {
          "output_type": "stream",
          "name": "stdout",
          "text": [
            "Enter a word to search for: muscle\n",
            "Sentence ID: ARTHROTEC.3.txt_line_7\n",
            "Sentence Text: Have stopped taking and immediatedly muscle/joint pain eased and sleeping much better.\n",
            "Word Count: 1\n",
            "\n",
            "Sentence ID: ARTHROTEC.17.txt_line_3\n",
            "Sentence Text: i was put on this medication because i was taking such high doses of Advil to quell the inflammation in my neck and back muscles that it caused me to have a GI bleed.\n",
            "Word Count: 1\n",
            "\n",
            "Sentence ID: ARTHROTEC.47.txt_line_1\n",
            "Sentence Text: after taking just one dose, had hunger feeling and stomach cramping, in the eve and through the night constant muscle cramps in my calf muscles, couldn't sleep, had to keep jumping out of bed because of the cramps.\n",
            "Word Count: 2\n",
            "\n",
            "Sentence ID: ARTHROTEC.97.txt_line_2\n",
            "Sentence Text: They included fluid retention, all over muscle pain, cramps.\n",
            "Word Count: 1\n",
            "\n"
          ]
        }
      ]
    },
    {
      "cell_type": "markdown",
      "source": [
        "In the field of Data Science, data is often formatted as a comma-delimited (CSV) file, where each line in a file corresponds to a field's value. To answer this question, you will need to download the file Assignment2_denton_housing.csv included with this assignment. The file Assignment2_denton_housing.csv contains statistics about housing in the city of Denton from 2008 to 2014. Write a program to do the following:\n",
        "\n",
        "(a) Calculate the difference in the number of Occupied Housing Units from year to year and print it. The difference must be calculated for the consecutive years such as 2008-2009, 2009-2010 etc. Finally, print the values in the ascending order. (10 pts)\n"
      ],
      "metadata": {
        "id": "4JH9dOL_QnKJ"
      }
    },
    {
      "cell_type": "code",
      "source": [
        "#Question a\n",
        "import pandas as pd\n",
        "df = pd.read_csv (r'/content/drive/MyDrive/Assignment2_denton_housing.csv')\n",
        "print (df)\n",
        "housing_result = {}\n",
        "for year in range(2008, 2014):\n",
        "    housing_result[\"{}-{}\".format(year, year+1)] = abs(df[(df['year'] == year) & (df['title_field'] == \"Occupied Housing Units\")].values[0][2] - df[(df['year'] == year + 1) & (df['title_field'] == \"Occupied Housing Units\")].values[0][2])\n",
        "print(\"The Occupied Housing Units: \")\n",
        "housing_result = {k: v for k, v in sorted(housing_result.items(), key=lambda item: item[1])}\n",
        "\n",
        "for k in housing_result.keys():\n",
        "  print(\"{}: {}\".format(k, housing_result[k]))"
      ],
      "metadata": {
        "colab": {
          "base_uri": "https://localhost:8080/"
        },
        "id": "zJW_WTgyPQke",
        "outputId": "54c20dac-ba0a-431e-e734-b65a9fd25373"
      },
      "execution_count": 28,
      "outputs": [
        {
          "output_type": "stream",
          "name": "stdout",
          "text": [
            "    year             title_field  value\n",
            "0   2014     Total Housing Units  49109\n",
            "1   2014    Vacant Housing Units   2814\n",
            "2   2014  Occupied Housing Units  46295\n",
            "3   2013     Total Housing Units  47888\n",
            "4   2013    Vacant Housing Units   4215\n",
            "5   2013  Occupied Housing Units  43673\n",
            "6   2012     Total Housing Units  45121\n",
            "7   2012    Vacant Housing Units   3013\n",
            "8   2012  Occupied Housing Units  42108\n",
            "9   2011     Total Housing Units  44917\n",
            "10  2011    Vacant Housing Units   4213\n",
            "11  2011  Occupied Housing Units  40704\n",
            "12  2010     Total Housing Units  44642\n",
            "13  2010    Vacant Housing Units   3635\n",
            "14  2010  Occupied Housing Units  41007\n",
            "15  2009     Total Housing Units  39499\n",
            "16  2009    Vacant Housing Units   3583\n",
            "17  2009  Occupied Housing Units  35916\n",
            "18  2008     Total Housing Units  41194\n",
            "19  2008    Vacant Housing Units   4483\n",
            "20  2008  Occupied Housing Units  36711\n",
            "21  2014          Owner Occupied  21427\n",
            "22  2014         Renter Occupied  24868\n",
            "23  2013          Owner Occupied  20845\n",
            "24  2013         Renter Occupied  22828\n",
            "25  2012          Owner Occupied  20068\n",
            "26  2012         Renter Occupied  22040\n",
            "27  2011          Owner Occupied  18478\n",
            "28  2011         Renter Occupied  22226\n",
            "29  2010          Owner Occupied  18867\n",
            "30  2010         Renter Occupied  22140\n",
            "31  2009          Owner Occupied  18057\n",
            "32  2009         Renter Occupied  17859\n",
            "33  2008          Owner Occupied  17340\n",
            "34  2008         Renter Occupied  19371\n",
            "35  2014       Median Gross Rent    905\n",
            "36  2013       Median Gross Rent    887\n",
            "37  2012       Median Gross Rent    842\n",
            "38  2011       Median Gross Rent    821\n",
            "39  2010       Median Gross Rent    780\n",
            "40  2009       Median Gross Rent    769\n",
            "41  2008       Median Gross Rent    768\n",
            "The Occupied Housing Units: \n",
            "2010-2011: 303\n",
            "2008-2009: 795\n",
            "2011-2012: 1404\n",
            "2012-2013: 1565\n",
            "2013-2014: 2622\n",
            "2009-2010: 5091\n"
          ]
        }
      ]
    },
    {
      "cell_type": "markdown",
      "source": [
        "(b) For all the years, calculate the percentage of housing units which are vacant an occupied. Print the results in the following format: (15 pts)\n",
        "\n",
        "Year |Vacant Housing Units| Occupied Housing Units\n",
        "\n",
        "2008 30% 70%\n",
        "\n",
        "2009 ----- -----\n",
        "\n",
        "2010 ----- -----\n",
        "\n",
        "2011 ----- -----\n",
        "\n",
        "2012 ----- -----\n",
        "\n",
        "2013 ----- -----\n",
        "\n",
        "2014 ----- -----\n"
      ],
      "metadata": {
        "id": "kmwFz9Q9Q0qI"
      }
    },
    {
      "cell_type": "code",
      "source": [
        "# Question b\n",
        "house_percent = pd.DataFrame(columns = ['Year', 'Vacant%', 'Occupied%'])\n",
        "for year in range(2008, 2015):\n",
        "  housing_result = {}\n",
        "  housing_result['Year'] = year\n",
        "  housing_result['Vacant%'] = df[(df['year'] == year)]['value'].values[1] / (df[(df['year'] == year)]['value'].values[0])\n",
        "  housing_result['Occupied%'] = df[(df['year'] == year)]['value'].values[2] / (df[(df['year'] == year)]['value'].values[0])  \n",
        " \n",
        "  house_percent = house_percent.append(housing_result, ignore_index=True)\n",
        "\n",
        "print(house_percent)"
      ],
      "metadata": {
        "colab": {
          "base_uri": "https://localhost:8080/"
        },
        "id": "PWQQ7ADAP6pU",
        "outputId": "6c591c20-1c98-450e-f2d9-dcd26432e0e0"
      },
      "execution_count": 29,
      "outputs": [
        {
          "output_type": "stream",
          "name": "stdout",
          "text": [
            "     Year   Vacant%  Occupied%\n",
            "0  2008.0  0.108827   0.891173\n",
            "1  2009.0  0.090711   0.909289\n",
            "2  2010.0  0.081426   0.918574\n",
            "3  2011.0  0.093795   0.906205\n",
            "4  2012.0  0.066776   0.933224\n",
            "5  2013.0  0.088018   0.911982\n",
            "6  2014.0  0.057301   0.942699\n"
          ]
        }
      ]
    },
    {
      "cell_type": "markdown",
      "source": [
        "(c) Calculate and print the valued and years in which the highest number of housing units were vacant and occupied. Print the results in the following format: (15 pts)\n",
        "\n",
        "\t\t\tYear\tValue\n",
        "\n",
        "Vacant Housing Units\t ------\t-------\n",
        "\n",
        "Occupied Housing Units\t  ------\t-------\n"
      ],
      "metadata": {
        "id": "qVxT6cD2RCGH"
      }
    },
    {
      "cell_type": "code",
      "source": [
        "#Question c\n",
        "house_units = pd.DataFrame(columns=['Units','Year', 'Value'])\n",
        "for units in ['Vacant Housing Units', \"Occupied Housing Units\"]:\n",
        "  housing_result = {}\n",
        "  housing_result['Units'] = units\n",
        "  housing_result['Year'] = df[df['title_field'] == units].max()[0]\n",
        "  housing_result['Value'] = df[df['title_field'] == units].max()[2]\n",
        " \n",
        "  house_units = house_units.append(housing_result, ignore_index=True)\n",
        "\n",
        "print(house_units.set_index('Units'))"
      ],
      "metadata": {
        "colab": {
          "base_uri": "https://localhost:8080/"
        },
        "id": "sAgJjY81QAPk",
        "outputId": "d4836ab2-f4ee-433a-8300-4f2b2efb175f"
      },
      "execution_count": 30,
      "outputs": [
        {
          "output_type": "stream",
          "name": "stdout",
          "text": [
            "                        Year  Value\n",
            "Units                              \n",
            "Vacant Housing Units    2014   4483\n",
            "Occupied Housing Units  2014  46295\n"
          ]
        }
      ]
    },
    {
      "cell_type": "markdown",
      "source": [
        "(d) Calculate the harmonic mean of the total housing units and print it out. "
      ],
      "metadata": {
        "id": "FcLtrl1GRL4P"
      }
    },
    {
      "cell_type": "code",
      "source": [
        "#Question d\n",
        "from statistics import harmonic_mean\n",
        "print(\"Harmonic mean:\",harmonic_mean(df[df['title_field'] == 'Total Housing Units']['value']))"
      ],
      "metadata": {
        "colab": {
          "base_uri": "https://localhost:8080/"
        },
        "id": "O96QyfBHQIxL",
        "outputId": "800f6613-9e65-4e14-dc61-93bba389c325"
      },
      "execution_count": 31,
      "outputs": [
        {
          "output_type": "stream",
          "name": "stdout",
          "text": [
            "Harmonic mean: 44398.28543969185\n"
          ]
        }
      ]
    }
  ]
}
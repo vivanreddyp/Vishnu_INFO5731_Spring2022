{
 "cells": [
  {
   "cell_type": "markdown",
   "metadata": {},
   "source": [
    "## The third Lab-assignment (02/10/2022, 50 points in total)"
   ]
  },
  {
   "cell_type": "markdown",
   "metadata": {},
   "source": [
    "The purpose of this exercise is to understand users' information needs, then collect data from different sources for analysis."
   ]
  },
  {
   "cell_type": "markdown",
   "metadata": {},
   "source": [
    "Question 1 (10 points). Fomulate your domain problem: Describe an interesting research question (or practical question) you have in mind, what kind of data should be collected to answer the question(s)? How many data needed for the analysis? The detail steps for collecting and save the data. "
   ]
  },
  {
   "cell_type": "code",
   "execution_count": null,
   "metadata": {},
   "outputs": [],
   "source": [
    "'''\n",
    "Please write you answer here:\n",
    "\n",
    "Research question:\n",
    "I have chosen about the Internation space station which is moving 28000 km/h, so finding how the location changes very fast and currently where it is?\n",
    "Its a simple API file, which is having ISS current loaction and it retrive the current latitude and longitude of the ISS along with a unix timestamp for valid location and time.\n",
    "This API doesn't contain any inputs."
   ]
  },
  {
   "cell_type": "markdown",
   "metadata": {},
   "source": [
    "Question 2 (10 points). Collect your data to answer the research problem: Write python code to collect 1000 data samples you discussed above."
   ]
  },
  {
   "cell_type": "code",
   "execution_count": 14,
   "metadata": {},
   "outputs": [
    {
     "name": "stdout",
     "output_type": "stream",
     "text": [
      "                    timestamp  iss_position  message\n",
      "latitude  2022-02-28 11:59:00       -9.5412  success\n",
      "longitude 2022-02-28 11:59:00        4.4441  success\n"
     ]
    }
   ],
   "source": [
    "import re\n",
    "import pandas\n",
    "\n",
    "# the ISS api shown below has data about ISS current location\n",
    "iss_api= 'http://api.open-notify.org/iss-now.json'\n",
    "\n",
    "iss_res=requests.get(iss_api)\n",
    "\n",
    "df=pandas.read_json(iss_res.text)\n",
    "\n",
    "print(df)\n"
   ]
  },
  {
   "cell_type": "markdown",
   "metadata": {},
   "source": [
    "Question 3 (10 points). Understand the data quality: Search a second hand dataset (any dataset) from kaggle or other websites. Describe the data quality problem of the dataset and explain your strtegy to clean the data."
   ]
  },
  {
   "cell_type": "code",
   "execution_count": null,
   "metadata": {},
   "outputs": [],
   "source": [
    "# Your answer here (no code for this question, write down your answer as detail as possible for the above questions):\n",
    "'''\n",
    "\n",
    "\n",
    "Please write you answer here:\n",
    "\n",
    "-> I considered a world university ranking data from Kaggle.\n",
    "Dataset:\n",
    ". Link: https://www.kaggle.com/padhmam/qs-world-university-rankings-2017-2022\n",
    ". There are 14 data columns in the dataset.\n",
    ". The target column is having many countires in the wolrd.\n",
    "\n",
    "Steps to Clean the University rankings data:\n",
    ". we convert all the character data into lowercase.\n",
    ". Stopwords will be removed from the data.\n",
    ". Remove any special character or unwanted space in the data.\n",
    ". Remove null values from the data\n",
    ". Perform stemming and Lemmatization on the data.\n",
    ". Check if there is any irrelevent data.\n",
    ". If there is any irrelevent, we remove the data and we choose the data based on requirement country and by sorting the ranking column,\n",
    "'''"
   ]
  },
  {
   "cell_type": "markdown",
   "metadata": {},
   "source": [
    "Question 4 (20 points). Data cleaning: There are two datasets TwADR-L (from Twitter) and AskAPatient (Link: https://zenodo.org/record/55013#.YgU2NN-ZO4T) for medical concept\n",
    "normalization. However, the two datasets have serious data quality problems. Please read the introduction of the datasets and clean the two datasets by following the steps in the statement.\n",
    "\n",
    "In the original dataset, the TwADR-L had 48,057 training, 1,256 validation and 1,427 test examples. The test set (all\n",
    "test samples from 10 folds combined) consists of 765 unique phrases and 273 unique classes (medical concepts). The AskAPatient dataset contained 156,652 training, 7,926 validation, and 8,662 test examples. The entire test set (all test samples\n",
    "from 10 folds combined) consists of 3,749 unique phrases and 1,035 unique classes (medical concepts). The authors\n",
    "randomly split each dataset into ten equal folds, ran 10-fold cross validation and reported the accuracy averaged across the\n",
    "ten folds. \n",
    "\n",
    "We found that, in the original data set, many phrase-label pairs appeared multiple times within the same training data file\n",
    "and also across the training and test data sets in the same fold. In the AskAPatient data set, on average 35.82% of the test data overlapped with training data in the same fold. In the Twitter (TwADR-L) dataset, on average 8.62% of the test set had an overlap with the training data in the same fold. Having a large overlap between the training and the test data can potentially\n",
    "introduce bias in the model and contribute to high accuracy. It is not unlikely that the high model performance reported in the original paper may be triggered by the the large overlap between the training and test sets.\n",
    "\n",
    "Therefore to remove the bias, we further cleaned and recreated the training, validation, and test sets such that each\n",
    "phrase-label pair appears only once in the entire dataset (either in training, validation or test set).\n",
    "\n",
    "(1) First, we combined all examples in training, validation and test data from the original data set and then removed all\n",
    "duplicate phrase-label pairs (examples that have the same phrase and label pair and appear more than once in training/validation/test datasets). Table II shows the statistics of the new dataset (after removing duplicates). The Twitter data set had 3,157 unique phrase-label pairs and 2,220 unique labels (medical concepts) while 173 phrases had multiple labels (i.e., they were assigned to more than one label). Many concepts had only one example, and the concept that had the most number\n",
    "of examples had 36 phrases. On average, each concept had 1.42 examples. The AskAPatient data set had 4,496 unique phrase-label pairs, 1,036 unique labels while 26 phrases had multiple labels. Table III shows examples of phrases that had multiple labels. For example, ‘mad’ can be mapped to ‘anger’ or ‘rage’ and ‘sore’ can be mapped to ‘pain’ or ‘myalgia’.\n",
    "\n",
    "(2) Second, we remove all concepts that had less than five examples. The statistics of the final data are shown in Table IV.\n",
    "\n",
    "(3) Third, we divide all examples without multiple labels into random 10 folds such that each unique phrase-label pair\n",
    "appears once in one of the 10 test sets. We add the pairs with multiple labels into the training data. This final 10-folds\n",
    "dataset is used in all our experiments.\n",
    "\n",
    "(The original paper can be download on canvas)"
   ]
  },
  {
   "cell_type": "code",
   "execution_count": 1,
   "metadata": {},
   "outputs": [
    {
     "data": {
      "text/html": [
       "<div>\n",
       "<style scoped>\n",
       "    .dataframe tbody tr th:only-of-type {\n",
       "        vertical-align: middle;\n",
       "    }\n",
       "\n",
       "    .dataframe tbody tr th {\n",
       "        vertical-align: top;\n",
       "    }\n",
       "\n",
       "    .dataframe thead th {\n",
       "        text-align: right;\n",
       "    }\n",
       "</style>\n",
       "<table border=\"1\" class=\"dataframe\">\n",
       "  <thead>\n",
       "    <tr style=\"text-align: right;\">\n",
       "      <th></th>\n",
       "      <th>TwADR-L</th>\n",
       "      <th>AskAPatient</th>\n",
       "    </tr>\n",
       "  </thead>\n",
       "  <tbody>\n",
       "    <tr>\n",
       "      <th>#Unique phrases</th>\n",
       "      <td>2220</td>\n",
       "      <td>1038</td>\n",
       "    </tr>\n",
       "    <tr>\n",
       "      <th>#Unique labels</th>\n",
       "      <td>2944</td>\n",
       "      <td>4470</td>\n",
       "    </tr>\n",
       "    <tr>\n",
       "      <th># unique phrase-label pairs</th>\n",
       "      <td>3157</td>\n",
       "      <td>4507</td>\n",
       "    </tr>\n",
       "    <tr>\n",
       "      <th># phrases with multiple labels</th>\n",
       "      <td>173</td>\n",
       "      <td>35</td>\n",
       "    </tr>\n",
       "    <tr>\n",
       "      <th>Min # examples per label</th>\n",
       "      <td>1</td>\n",
       "      <td>1</td>\n",
       "    </tr>\n",
       "    <tr>\n",
       "      <th>Max # examples per label</th>\n",
       "      <td>36</td>\n",
       "      <td>141</td>\n",
       "    </tr>\n",
       "    <tr>\n",
       "      <th>Avg # examples per label</th>\n",
       "      <td>1</td>\n",
       "      <td>4</td>\n",
       "    </tr>\n",
       "  </tbody>\n",
       "</table>\n",
       "</div>"
      ],
      "text/plain": [
       "                                TwADR-L  AskAPatient\n",
       "#Unique phrases                    2220         1038\n",
       "#Unique labels                     2944         4470\n",
       "# unique phrase-label pairs        3157         4507\n",
       "# phrases with multiple labels      173           35\n",
       "Min # examples per label              1            1\n",
       "Max # examples per label             36          141\n",
       "Avg # examples per label              1            4"
      ]
     },
     "execution_count": 1,
     "metadata": {},
     "output_type": "execute_result"
    }
   ],
   "source": [
    "import warnings\n",
    "import pandas as pd\n",
    "import glob\n",
    "import os\n",
    "dtst=['TwADR-L','AskAPatient']\n",
    "resdf=pd.DataFrame()\n",
    "path='C:/Users/vishn/Downloads/datasets/datasets'\n",
    "#print(path)\n",
    "for name in dtst:\n",
    "    rslt={}\n",
    "    ldf=pd.DataFrame()\n",
    "    file=path+'/'+name\n",
    "    #print(name,file)\n",
    "    os.chdir(file)\n",
    "    os.chmod(file,0o777)\n",
    "    for files in glob.glob('*.txt'):\n",
    "        #print (files)\n",
    "        rd=pd.read_csv(files,sep='\\t',header = None, encoding= 'unicode_escape')\n",
    "        ldf=ldf.append(rd)\n",
    "    ldf.reset_index(drop=True)\n",
    "    ldf.columns=['ID','label','Phrase']\n",
    "    ldf['label']=ldf['label'].str.upper()\n",
    "    ldf['Phrase']=ldf['Phrase'].str.upper()\n",
    "    ldf.drop_duplicates(subset=['label','Phrase'],inplace=True)\n",
    "    ldf[\"Phrase-label\"]=ldf['Phrase']+ldf['label']\n",
    "    rslt['#Unique phrases'] =ldf['label'].nunique()\n",
    "    rslt['#Unique labels'] =len(ldf['Phrase'].unique())\n",
    "    rslt['# unique phrase-label pairs'] =ldf[\"Phrase-label\"].nunique()\n",
    "    ldf1 = pd.DataFrame(ldf['Phrase'].value_counts())\n",
    "    rslt[\"# phrases with multiple labels\"]=ldf1[ldf1['Phrase'] > 1].shape[0]\n",
    "    rslt['Min # examples per label'] = ldf['label'].value_counts().values.min()\n",
    "    rslt['Max # examples per label'] = ldf['label'].value_counts().values.max()\n",
    "    rslt['Avg # examples per label'] = round(ldf['label'].value_counts().mean(), 2)\n",
    "    resdf = resdf.append(rslt, ignore_index=True)\n",
    "resdf = resdf.T\n",
    "resdf = resdf.astype({0: int, 1: int})\n",
    "resdf.columns = ['TwADR-L', 'AskAPatient']\n",
    "resdf\n"
   ]
  },
  {
   "cell_type": "code",
   "execution_count": 4,
   "metadata": {},
   "outputs": [
    {
     "data": {
      "text/html": [
       "<div>\n",
       "<style scoped>\n",
       "    .dataframe tbody tr th:only-of-type {\n",
       "        vertical-align: middle;\n",
       "    }\n",
       "\n",
       "    .dataframe tbody tr th {\n",
       "        vertical-align: top;\n",
       "    }\n",
       "\n",
       "    .dataframe thead th {\n",
       "        text-align: right;\n",
       "    }\n",
       "</style>\n",
       "<table border=\"1\" class=\"dataframe\">\n",
       "  <thead>\n",
       "    <tr style=\"text-align: right;\">\n",
       "      <th></th>\n",
       "      <th>TwADR-L</th>\n",
       "      <th>AskAPatient</th>\n",
       "    </tr>\n",
       "  </thead>\n",
       "  <tbody>\n",
       "    <tr>\n",
       "      <th>#Unique phrases</th>\n",
       "      <td>233</td>\n",
       "      <td>221</td>\n",
       "    </tr>\n",
       "    <tr>\n",
       "      <th>#Unique labels</th>\n",
       "      <td>2563</td>\n",
       "      <td>2518</td>\n",
       "    </tr>\n",
       "    <tr>\n",
       "      <th># unique phrase-label pairs</th>\n",
       "      <td>2583</td>\n",
       "      <td>2537</td>\n",
       "    </tr>\n",
       "    <tr>\n",
       "      <th># phrases with multiple labels</th>\n",
       "      <td>19</td>\n",
       "      <td>18</td>\n",
       "    </tr>\n",
       "    <tr>\n",
       "      <th>Min # examples per label</th>\n",
       "      <td>3</td>\n",
       "      <td>5</td>\n",
       "    </tr>\n",
       "    <tr>\n",
       "      <th>Max # examples per label</th>\n",
       "      <td>135</td>\n",
       "      <td>135</td>\n",
       "    </tr>\n",
       "    <tr>\n",
       "      <th>Avg # examples per label</th>\n",
       "      <td>11</td>\n",
       "      <td>11</td>\n",
       "    </tr>\n",
       "  </tbody>\n",
       "</table>\n",
       "</div>"
      ],
      "text/plain": [
       "                                TwADR-L  AskAPatient\n",
       "#Unique phrases                     233          221\n",
       "#Unique labels                     2563         2518\n",
       "# unique phrase-label pairs        2583         2537\n",
       "# phrases with multiple labels       19           18\n",
       "Min # examples per label              3            5\n",
       "Max # examples per label            135          135\n",
       "Avg # examples per label             11           11"
      ]
     },
     "execution_count": 4,
     "metadata": {},
     "output_type": "execute_result"
    }
   ],
   "source": [
    "res1_df=pd.DataFrame()\n",
    "for name in dtst:\n",
    "    res1={}\n",
    "    index_list = []\n",
    "    for i in range(ldf.shape[0]):\n",
    "        if ldf['label'].value_counts()[ldf.iloc[i]['label']] < 5:\n",
    "            index_list.append(i)\n",
    "    ldf.drop(ldf.index[index_list],inplace=True)\n",
    "    res1['#Unique phrases'] =ldf['label'].nunique()\n",
    "    res1['#Unique labels'] =len(ldf['Phrase'].unique())\n",
    "    res1['# unique phrase-label pairs'] =ldf[\"Phrase-label\"].nunique()\n",
    "    #occur = df.groupby(['label']).size()\n",
    "    #print(occur[1]>1)#['label']>1)\n",
    "    ldf1 = pd.DataFrame(ldf['Phrase'].value_counts())\n",
    "    res1[\"# phrases with multiple labels\"]=ldf1[ldf1['Phrase'] > 1].shape[0]\n",
    "    res1['Min # examples per label'] = ldf['label'].value_counts().values.min()\n",
    "    res1['Max # examples per label'] = ldf['label'].value_counts().values.max()\n",
    "    res1['Avg # examples per label'] = round(ldf['label'].value_counts().mean(), 2)\n",
    "    res1_df = res1_df.append(res1, ignore_index=True)\n",
    "res1_df = res1_df.T\n",
    "res1_df = res1_df.astype({0: int, 1: int})\n",
    "res1_df.columns = ['TwADR-L', 'AskAPatient']\n",
    "res1_df\n"
   ]
  },
  {
   "cell_type": "code",
   "execution_count": null,
   "metadata": {},
   "outputs": [],
   "source": []
  },
  {
   "cell_type": "code",
   "execution_count": null,
   "metadata": {},
   "outputs": [],
   "source": []
  }
 ],
 "metadata": {
  "kernelspec": {
   "display_name": "Python 3 (ipykernel)",
   "language": "python",
   "name": "python3"
  },
  "language_info": {
   "codemirror_mode": {
    "name": "ipython",
    "version": 3
   },
   "file_extension": ".py",
   "mimetype": "text/x-python",
   "name": "python",
   "nbconvert_exporter": "python",
   "pygments_lexer": "ipython3",
   "version": "3.9.7"
  }
 },
 "nbformat": 4,
 "nbformat_minor": 2
}

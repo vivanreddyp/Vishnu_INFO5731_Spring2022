{
 "cells": [
  {
   "cell_type": "markdown",
   "metadata": {
    "colab_type": "text",
    "id": "view-in-github"
   },
   "source": [
    "<a href=\"https://colab.research.google.com/github/unt-iialab/INFO5731_Spring2020/blob/master/Assignments/INFO5731_Assignment_One.ipynb\" target=\"_parent\"><img src=\"https://colab.research.google.com/assets/colab-badge.svg\" alt=\"Open In Colab\"/></a>"
   ]
  },
  {
   "cell_type": "markdown",
   "metadata": {
    "colab_type": "text",
    "id": "Ryk8D1Q4Wsrp"
   },
   "source": [
    "# **The second Lab-assignment (02/04/2022, 50 points in total)**"
   ]
  },
  {
   "cell_type": "markdown",
   "metadata": {
    "colab_type": "text",
    "id": "90_NR8c5XGWc"
   },
   "source": [
    "# Question 1\n",
    "\n",
    "(5 points). Write a Python program to generate 12 random numbers between 1 and 100. Sort the list of numbers in ascending order and print it out. Sort the list of numbers in descending order and print it out. Calculate the average for the group and print it out."
   ]
  },
  {
   "cell_type": "code",
   "execution_count": 19,
   "metadata": {
    "colab": {},
    "colab_type": "code",
    "id": "5QX6bJjGWXY9"
   },
   "outputs": [
    {
     "name": "stdout",
     "output_type": "stream",
     "text": [
      "Ascending_order_list: [3, 12, 13, 21, 28, 32, 43, 56, 63, 74, 77, 79]\n",
      "Descending_order_list: [79, 77, 74, 63, 56, 43, 32, 28, 21, 13, 12, 3]\n",
      "Avg: 41.75\n"
     ]
    }
   ],
   "source": [
    "import random\n",
    "rlist = random.sample(range(1, 100), 12)\n",
    "print(\"Ascending_order_list:\", sorted(rlist))\n",
    "print(\"Descending_order_list:\", sorted(rlist, reverse = True))\n",
    "print(\"Avg:\", sum(rlist)/len(rlist))\n"
   ]
  },
  {
   "cell_type": "markdown",
   "metadata": {
    "colab_type": "text",
    "id": "1F_PZdH9Sh49"
   },
   "source": [
    "# Question 2\n",
    "(20 points). Write a program that will do the following string formatting tasks:\n",
    "\n",
    "(1) Ask the user to enter two sentences.\n",
    "\n",
    "(2) Make each sentence into a list. Each element in the list should correspond to a word in the sentence. For example, if the sentence is \"Alas! Am I alive? This is my first python program\", the program should print out ['Alas, '!', 'Am', 'I', 'alive, '?', 'This', 'is', 'my', 'first', 'python', 'program'].\n",
    "\n",
    "(3) Compare the two sentences. Print out a list of words that occur in both sentences.\n",
    "\n",
    "(4) Remove any punctuation from the sentence and print it back out. It should remove at least the following characters, but it can remove more: period(“.”), comma (“,”), semicolon (“;”), and colon (“:”)\n",
    "\n",
    "(5) Count the number of vowels in the sentences. Print out each vowel and the number of times it appears in the sentences, such as: a:2, e:1, i:0, etc"
   ]
  },
  {
   "cell_type": "code",
   "execution_count": 20,
   "metadata": {
    "colab": {},
    "colab_type": "code",
    "id": "Y0oOSlsOS0cq"
   },
   "outputs": [
    {
     "name": "stdout",
     "output_type": "stream",
     "text": [
      "Enter the sentence 1: Hey All..This is my first python programming @ UNT\n",
      "Enter the sentence 2: Hello UNT..This is my second python programming @info5502\n",
      "['Hey', 'All', '.', '.', 'This', 'is', 'my', 'first', 'python', 'programming', '@', 'UNT']\n",
      "['Hello', 'UNT', '.', '.', 'This', 'is', 'my', 'second', 'python', 'programming', '@', 'info', '5', '5', '0', '2']\n",
      "\n",
      "The common words:  ['programming', 'my', 'This', 'python', 'is', 'UNT']\n",
      "\n",
      "Hey All This is my first python programming UNT\n",
      "\n",
      "{'a': 2, 'e': 1, 'i': 4, 'o': 2, 'u': 1}\n",
      "{'a': 1, 'e': 2, 'i': 4, 'o': 5, 'u': 1}\n"
     ]
    }
   ],
   "source": [
    "fstsntc = input(\"Enter the sentence 1: \")\n",
    "sndsntc = input(\"Enter the sentence 2: \")\n",
    "import re\n",
    "fstsntc_wrds = re.findall(r\"[A-Za-z]+|\\S\", fstsntc)\n",
    "sndsntc_wrds = re.findall(r\"[A-Za-z]+|\\S\", sndsntc)\n",
    "print(fstsntc_wrds)\n",
    "print(sndsntc_wrds)\n",
    "print()\n",
    "both_line_words = list(set(fstsntc_wrds)&set(sndsntc_wrds))\n",
    "both_line_words = [i for i in both_line_words if i.isalpha()]\n",
    "print(\"The common words: \", both_line_words)\n",
    "print()\n",
    "print(\" \".join(i for i in re.findall(r\"[A-Za-z]+|\\s\", fstsntc) if i != \" \"))\n",
    "print()\n",
    "for sentence in (fstsntc, sndsntc):\n",
    "  vowcount = {}\n",
    "  for char in ['a', 'e', 'i', 'o', 'u']:\n",
    "    vowcount[char] = sentence.lower().count(char)\n",
    "\n",
    "  print(vowcount)\n",
    "\n"
   ]
  },
  {
   "cell_type": "markdown",
   "metadata": {
    "colab_type": "text",
    "id": "CmFoI4jDS9nx"
   },
   "source": [
    "# Question 3 \n",
    "\n",
    "(5 points). The formula that describes the volume V of a sphere with radius r is the following:\n",
    "\n",
    "$ V=\\frac{4}{3}\\ast\\ \\pi\\ast\\ r^3 $\n",
    "\n",
    "Write a program to calculate the value of V when r is in the range of 1–10. Output the result in the following format:\n",
    "\n",
    "\tr\tV\n",
    "\t1\t…\n",
    "\t2\t…\n",
    "\t3\t…\n"
   ]
  },
  {
   "cell_type": "code",
   "execution_count": 21,
   "metadata": {
    "colab": {},
    "colab_type": "code",
    "id": "pEyqeioAT95b"
   },
   "outputs": [
    {
     "name": "stdout",
     "output_type": "stream",
     "text": [
      "r  V\n",
      "1 4.1887902047863905  \n",
      "2 33.510321638291124  \n",
      "3 113.09733552923254  \n",
      "4 268.082573106329  \n",
      "5 523.5987755982989  \n",
      "6 904.7786842338603  \n",
      "7 1436.7550402417319  \n",
      "8 2144.660584850632  \n",
      "9 3053.6280592892786  \n"
     ]
    }
   ],
   "source": [
    "import math\n",
    "print(\"r  V\")\n",
    "for r in range(1, 10):\n",
    "  print(\"{} {}  \".format(r, (4/3)*math.pi*(r**3)))\n",
    "\n"
   ]
  },
  {
   "cell_type": "markdown",
   "metadata": {
    "colab_type": "text",
    "id": "z3tBE7E-Xn5X"
   },
   "source": [
    "# Question 4\n",
    "\n",
    "(20 points). In the field of Data Science, data is often formatted as a comma-delimited (CSV) file, where each line in a file corresponds to a field's value. Refer to Chapter 9 (p. 106) for more information on comma-delimited files. To answer this question, you will need to download the file [lab_assignment_02_denton_housing.csv](https://raw.githubusercontent.com/unt-iialab/info5502-spring2022/main/datasets/lab_assignment_02_denton_housing.csv) included with this assignment. The file [lab_assignment_02_denton_housing.csv](https://raw.githubusercontent.com/unt-iialab/info5502-spring2022/main/datasets/lab_assignment_02_denton_housing.csv) contains statistics about housing in the city of Denton from 2008 to 2014. Write a program to implement the following questions.\n",
    "\n",
    "(1) (10 pts) Calculate the difference in the number of Occupied Housing Units from year to year and print it. The difference must be calculated for the consecutive years such as 2008-2009, 2009-2010 etc. Finally, print the values in the ascending order.\n",
    "\n",
    "(2) (10 pts) For all the years, calculate the percentage of housing units which are vacant an occupied. Print the results in the following format:\n",
    "\n",
    "Year Vacant Housing Units Occupied Housing Units\n",
    "\n",
    "    2008  30%   70%                          \n",
    "\t2009 ----- -----\n",
    "\t2010 ----- -----\n",
    "    2011 ----- -----\n",
    "\t2012 ----- -----\n",
    "    2013 ----- -----\n",
    "\t2014 ----- -----\n",
    "  \n",
    "  \n",
    "\n",
    "(3) (10 pts) Calculate and print the valued and years in which the highest number of housing units were vacant and occupied. Print the results in the following format:  \n",
    "\n",
    "                              Year\tValue\n",
    "\tVacant Housing Units\t  -----   -----\n",
    "\tOccupied Housing Units\t-----   -----\n",
    "\n",
    "(4) (10 pts) Calculate the harmonic mean of the total housing units and print it out. You can find the information about harmonic mean here: https://ncalculators.com/statistics/harmonic-mean-calculator.htm"
   ]
  },
  {
   "cell_type": "code",
   "execution_count": 22,
   "metadata": {
    "colab": {},
    "colab_type": "code",
    "id": "lqGYuHBhcsRH"
   },
   "outputs": [
    {
     "name": "stdout",
     "output_type": "stream",
     "text": [
      "    year             title_field  value\n",
      "0   2014     Total Housing Units  49109\n",
      "1   2014    Vacant Housing Units   2814\n",
      "2   2014  Occupied Housing Units  46295\n",
      "3   2013     Total Housing Units  47888\n",
      "4   2013    Vacant Housing Units   4215\n",
      "5   2013  Occupied Housing Units  43673\n",
      "6   2012     Total Housing Units  45121\n",
      "7   2012    Vacant Housing Units   3013\n",
      "8   2012  Occupied Housing Units  42108\n",
      "9   2011     Total Housing Units  44917\n",
      "10  2011    Vacant Housing Units   4213\n",
      "11  2011  Occupied Housing Units  40704\n",
      "12  2010     Total Housing Units  44642\n",
      "13  2010    Vacant Housing Units   3635\n",
      "14  2010  Occupied Housing Units  41007\n",
      "15  2009     Total Housing Units  39499\n",
      "16  2009    Vacant Housing Units   3583\n",
      "17  2009  Occupied Housing Units  35916\n",
      "18  2008     Total Housing Units  41194\n",
      "19  2008    Vacant Housing Units   4483\n",
      "20  2008  Occupied Housing Units  36711\n",
      "21  2014          Owner Occupied  21427\n",
      "22  2014         Renter Occupied  24868\n",
      "23  2013          Owner Occupied  20845\n",
      "24  2013         Renter Occupied  22828\n",
      "25  2012          Owner Occupied  20068\n",
      "26  2012         Renter Occupied  22040\n",
      "27  2011          Owner Occupied  18478\n",
      "28  2011         Renter Occupied  22226\n",
      "29  2010          Owner Occupied  18867\n",
      "30  2010         Renter Occupied  22140\n",
      "31  2009          Owner Occupied  18057\n",
      "32  2009         Renter Occupied  17859\n",
      "33  2008          Owner Occupied  17340\n",
      "34  2008         Renter Occupied  19371\n",
      "35  2014       Median Gross Rent    905\n",
      "36  2013       Median Gross Rent    887\n",
      "37  2012       Median Gross Rent    842\n",
      "38  2011       Median Gross Rent    821\n",
      "39  2010       Median Gross Rent    780\n",
      "40  2009       Median Gross Rent    769\n",
      "41  2008       Median Gross Rent    768\n",
      "The Occupied Housing Units: \n",
      "2010-2011: 303\n",
      "2008-2009: 795\n",
      "2011-2012: 1404\n",
      "2012-2013: 1565\n",
      "2013-2014: 2622\n",
      "2009-2010: 5091\n"
     ]
    }
   ],
   "source": [
    "# Question 1\n",
    "import pandas as pd\n",
    "df = pd.read_csv (r'C:\\Users\\vishn\\OneDrive\\Desktop\\lab_assignment_02_denton_housing.csv')\n",
    "print (df)\n",
    "housing_result = {}\n",
    "for year in range(2008, 2014):\n",
    "    housing_result[\"{}-{}\".format(year, year+1)] = abs(df[(df['year'] == year) & (df['title_field'] == \"Occupied Housing Units\")].values[0][2] - df[(df['year'] == year + 1) & (df['title_field'] == \"Occupied Housing Units\")].values[0][2])\n",
    "print(\"The Occupied Housing Units: \")\n",
    "housing_result = {k: v for k, v in sorted(housing_result.items(), key=lambda item: item[1])}\n",
    "\n",
    "for k in housing_result.keys():\n",
    "  print(\"{}: {}\".format(k, housing_result[k]))\n",
    "\n",
    "\n"
   ]
  },
  {
   "cell_type": "code",
   "execution_count": 23,
   "metadata": {},
   "outputs": [
    {
     "name": "stdout",
     "output_type": "stream",
     "text": [
      "     Year   Vacant%  Occupied%\n",
      "0  2008.0  0.108827   0.891173\n",
      "1  2009.0  0.090711   0.909289\n",
      "2  2010.0  0.081426   0.918574\n",
      "3  2011.0  0.093795   0.906205\n",
      "4  2012.0  0.066776   0.933224\n",
      "5  2013.0  0.088018   0.911982\n",
      "6  2014.0  0.057301   0.942699\n"
     ]
    }
   ],
   "source": [
    "# Question 2\n",
    "house_percent = pd.DataFrame(columns = ['Year', 'Vacant%', 'Occupied%'])\n",
    "for year in range(2008, 2015):\n",
    "  housing_result = {}\n",
    "  housing_result['Year'] = year\n",
    "  housing_result['Vacant%'] = df[(df['year'] == year)]['value'].values[1] / (df[(df['year'] == year)]['value'].values[0])\n",
    "  housing_result['Occupied%'] = df[(df['year'] == year)]['value'].values[2] / (df[(df['year'] == year)]['value'].values[0])  \n",
    " \n",
    "  house_percent = house_percent.append(housing_result, ignore_index=True)\n",
    "\n",
    "print(house_percent)"
   ]
  },
  {
   "cell_type": "code",
   "execution_count": 24,
   "metadata": {},
   "outputs": [
    {
     "name": "stdout",
     "output_type": "stream",
     "text": [
      "                        Year  Value\n",
      "Units                              \n",
      "Vacant Housing Units    2014   4483\n",
      "Occupied Housing Units  2014  46295\n"
     ]
    }
   ],
   "source": [
    "#Question 3\n",
    "house_units = pd.DataFrame(columns=['Units','Year', 'Value'])\n",
    "for units in ['Vacant Housing Units', \"Occupied Housing Units\"]:\n",
    "  housing_result = {}\n",
    "  housing_result['Units'] = units\n",
    "  housing_result['Year'] = df[df['title_field'] == units].max()[0]\n",
    "  housing_result['Value'] = df[df['title_field'] == units].max()[2]\n",
    " \n",
    "  house_units = house_units.append(housing_result, ignore_index=True)\n",
    "\n",
    "print(house_units.set_index('Units'))"
   ]
  },
  {
   "cell_type": "code",
   "execution_count": 25,
   "metadata": {},
   "outputs": [
    {
     "name": "stdout",
     "output_type": "stream",
     "text": [
      "Harmonic mean: 44398.28543969185\n"
     ]
    }
   ],
   "source": [
    "#Question 4\n",
    "from statistics import harmonic_mean\n",
    "print(\"Harmonic mean:\",harmonic_mean(df[df['title_field'] == 'Total Housing Units']['value']))"
   ]
  },
  {
   "cell_type": "code",
   "execution_count": null,
   "metadata": {},
   "outputs": [],
   "source": []
  }
 ],
 "metadata": {
  "colab": {
   "authorship_tag": "ABX9TyOAjsNCkNulTpzgRQbHdy3f",
   "collapsed_sections": [],
   "include_colab_link": true,
   "name": "INFO5731_Assignment_One.ipynb",
   "provenance": []
  },
  "kernelspec": {
   "display_name": "Python 3 (ipykernel)",
   "language": "python",
   "name": "python3"
  },
  "language_info": {
   "codemirror_mode": {
    "name": "ipython",
    "version": 3
   },
   "file_extension": ".py",
   "mimetype": "text/x-python",
   "name": "python",
   "nbconvert_exporter": "python",
   "pygments_lexer": "ipython3",
   "version": "3.9.7"
  }
 },
 "nbformat": 4,
 "nbformat_minor": 1
}
